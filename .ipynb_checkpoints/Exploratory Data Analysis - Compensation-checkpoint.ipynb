{
 "cells": [
  {
   "cell_type": "code",
   "execution_count": 43,
   "id": "brutal-smart",
   "metadata": {},
   "outputs": [],
   "source": [
    "# Import dependencies \n",
    "\n",
    "import pandas as pd \n",
    "import numpy as np "
   ]
  },
  {
   "cell_type": "code",
   "execution_count": 44,
   "id": "heavy-landscape",
   "metadata": {},
   "outputs": [],
   "source": [
    "# Load dataset into notebook \n",
    "\n",
    "data = pd.read_csv(\"../compensation.csv\")"
   ]
  },
  {
   "cell_type": "code",
   "execution_count": 45,
   "id": "twenty-convenience",
   "metadata": {},
   "outputs": [
    {
     "data": {
      "text/html": [
       "<div>\n",
       "<style scoped>\n",
       "    .dataframe tbody tr th:only-of-type {\n",
       "        vertical-align: middle;\n",
       "    }\n",
       "\n",
       "    .dataframe tbody tr th {\n",
       "        vertical-align: top;\n",
       "    }\n",
       "\n",
       "    .dataframe thead th {\n",
       "        text-align: right;\n",
       "    }\n",
       "</style>\n",
       "<table border=\"1\" class=\"dataframe\">\n",
       "  <thead>\n",
       "    <tr style=\"text-align: right;\">\n",
       "      <th></th>\n",
       "      <th>ISIN</th>\n",
       "      <th>Ticker</th>\n",
       "      <th>Company Name</th>\n",
       "      <th>Sector</th>\n",
       "      <th>CEO Pay Ratio (Source 1)</th>\n",
       "      <th>CEO Pay Ratio (Source 2)</th>\n",
       "      <th>CEO Pay Ratio (Source 3)</th>\n",
       "      <th>Median Employee Pay</th>\n",
       "    </tr>\n",
       "  </thead>\n",
       "  <tbody>\n",
       "    <tr>\n",
       "      <th>0</th>\n",
       "      <td>AN8068571086</td>\n",
       "      <td>SLB</td>\n",
       "      <td>Schlumberger NV</td>\n",
       "      <td>Energy</td>\n",
       "      <td>313.0</td>\n",
       "      <td>NaN</td>\n",
       "      <td>58.4</td>\n",
       "      <td>NaN</td>\n",
       "    </tr>\n",
       "    <tr>\n",
       "      <th>1</th>\n",
       "      <td>AT0000641352</td>\n",
       "      <td>CAI</td>\n",
       "      <td>CA Immobilien Anlagen AG</td>\n",
       "      <td>Real Estate</td>\n",
       "      <td>19.8</td>\n",
       "      <td>NaN</td>\n",
       "      <td>NaN</td>\n",
       "      <td>NaN</td>\n",
       "    </tr>\n",
       "    <tr>\n",
       "      <th>2</th>\n",
       "      <td>AT0000652011</td>\n",
       "      <td>EBS</td>\n",
       "      <td>Erste Group Bank AG</td>\n",
       "      <td>Financials</td>\n",
       "      <td>36.0</td>\n",
       "      <td>36.0</td>\n",
       "      <td>NaN</td>\n",
       "      <td>$104,315</td>\n",
       "    </tr>\n",
       "    <tr>\n",
       "      <th>3</th>\n",
       "      <td>AT0000746409</td>\n",
       "      <td>VER</td>\n",
       "      <td>Verbund AG</td>\n",
       "      <td>Utilities</td>\n",
       "      <td>60.0</td>\n",
       "      <td>60.0</td>\n",
       "      <td>NaN</td>\n",
       "      <td>$113,700</td>\n",
       "    </tr>\n",
       "    <tr>\n",
       "      <th>4</th>\n",
       "      <td>AT0000785555</td>\n",
       "      <td>SEM</td>\n",
       "      <td>Semperit AG Holding</td>\n",
       "      <td>Industrials</td>\n",
       "      <td>179.8</td>\n",
       "      <td>180.0</td>\n",
       "      <td>NaN</td>\n",
       "      <td>$42,730</td>\n",
       "    </tr>\n",
       "  </tbody>\n",
       "</table>\n",
       "</div>"
      ],
      "text/plain": [
       "           ISIN Ticker              Company Name       Sector  \\\n",
       "0  AN8068571086    SLB           Schlumberger NV       Energy   \n",
       "1  AT0000641352    CAI  CA Immobilien Anlagen AG  Real Estate   \n",
       "2  AT0000652011    EBS       Erste Group Bank AG   Financials   \n",
       "3  AT0000746409    VER                Verbund AG    Utilities   \n",
       "4  AT0000785555    SEM       Semperit AG Holding  Industrials   \n",
       "\n",
       "   CEO Pay Ratio (Source 1)  CEO Pay Ratio (Source 2)  \\\n",
       "0                     313.0                       NaN   \n",
       "1                      19.8                       NaN   \n",
       "2                      36.0                      36.0   \n",
       "3                      60.0                      60.0   \n",
       "4                     179.8                     180.0   \n",
       "\n",
       "   CEO Pay Ratio (Source 3) Median Employee Pay  \n",
       "0                      58.4                 NaN  \n",
       "1                       NaN                 NaN  \n",
       "2                       NaN           $104,315   \n",
       "3                       NaN           $113,700   \n",
       "4                       NaN            $42,730   "
      ]
     },
     "execution_count": 45,
     "metadata": {},
     "output_type": "execute_result"
    }
   ],
   "source": [
    "# Preview dataframe \n",
    "\n",
    "data.head()"
   ]
  },
  {
   "cell_type": "code",
   "execution_count": 46,
   "id": "returning-beijing",
   "metadata": {},
   "outputs": [
    {
     "data": {
      "text/plain": [
       "(3145, 8)"
      ]
     },
     "execution_count": 46,
     "metadata": {},
     "output_type": "execute_result"
    }
   ],
   "source": [
    "# See the number of rows and columns\n",
    "\n",
    "data.shape"
   ]
  },
  {
   "cell_type": "code",
   "execution_count": 47,
   "id": "superior-representation",
   "metadata": {},
   "outputs": [
    {
     "data": {
      "text/plain": [
       "ISIN                         object\n",
       "Ticker                       object\n",
       "Company Name                 object\n",
       "Sector                       object\n",
       "CEO Pay Ratio (Source 1)    float64\n",
       "CEO Pay Ratio (Source 2)    float64\n",
       "CEO Pay Ratio (Source 3)    float64\n",
       "Median Employee Pay          object\n",
       "dtype: object"
      ]
     },
     "execution_count": 47,
     "metadata": {},
     "output_type": "execute_result"
    }
   ],
   "source": [
    "# Check data types\n",
    "\n",
    "data.dtypes"
   ]
  },
  {
   "cell_type": "code",
   "execution_count": 49,
   "id": "continued-median",
   "metadata": {},
   "outputs": [],
   "source": [
    "# Median Employee Pay column had uneccessary \n",
    "# white space and the white space was removed from the column via the csv. "
   ]
  },
  {
   "cell_type": "code",
   "execution_count": 62,
   "id": "adjustable-macedonia",
   "metadata": {},
   "outputs": [],
   "source": [
    "# Remove rows in which Nan values exist for the following columns\n",
    "\n",
    "updated_data = data.dropna(axis= 0, subset = ['ISIN'])"
   ]
  },
  {
   "cell_type": "code",
   "execution_count": 63,
   "id": "elect-tissue",
   "metadata": {},
   "outputs": [
    {
     "data": {
      "text/html": [
       "<div>\n",
       "<style scoped>\n",
       "    .dataframe tbody tr th:only-of-type {\n",
       "        vertical-align: middle;\n",
       "    }\n",
       "\n",
       "    .dataframe tbody tr th {\n",
       "        vertical-align: top;\n",
       "    }\n",
       "\n",
       "    .dataframe thead th {\n",
       "        text-align: right;\n",
       "    }\n",
       "</style>\n",
       "<table border=\"1\" class=\"dataframe\">\n",
       "  <thead>\n",
       "    <tr style=\"text-align: right;\">\n",
       "      <th></th>\n",
       "      <th>ISIN</th>\n",
       "      <th>Ticker</th>\n",
       "      <th>Company Name</th>\n",
       "      <th>Sector</th>\n",
       "      <th>CEO Pay Ratio (Source 1)</th>\n",
       "      <th>CEO Pay Ratio (Source 2)</th>\n",
       "      <th>CEO Pay Ratio (Source 3)</th>\n",
       "      <th>Median Employee Pay</th>\n",
       "    </tr>\n",
       "  </thead>\n",
       "  <tbody>\n",
       "    <tr>\n",
       "      <th>0</th>\n",
       "      <td>AN8068571086</td>\n",
       "      <td>SLB</td>\n",
       "      <td>Schlumberger NV</td>\n",
       "      <td>Energy</td>\n",
       "      <td>313.0</td>\n",
       "      <td>NaN</td>\n",
       "      <td>58.4</td>\n",
       "      <td>NaN</td>\n",
       "    </tr>\n",
       "    <tr>\n",
       "      <th>1</th>\n",
       "      <td>AT0000641352</td>\n",
       "      <td>CAI</td>\n",
       "      <td>CA Immobilien Anlagen AG</td>\n",
       "      <td>Real Estate</td>\n",
       "      <td>19.8</td>\n",
       "      <td>NaN</td>\n",
       "      <td>NaN</td>\n",
       "      <td>NaN</td>\n",
       "    </tr>\n",
       "    <tr>\n",
       "      <th>2</th>\n",
       "      <td>AT0000652011</td>\n",
       "      <td>EBS</td>\n",
       "      <td>Erste Group Bank AG</td>\n",
       "      <td>Financials</td>\n",
       "      <td>36.0</td>\n",
       "      <td>36.0</td>\n",
       "      <td>NaN</td>\n",
       "      <td>$104,315</td>\n",
       "    </tr>\n",
       "    <tr>\n",
       "      <th>3</th>\n",
       "      <td>AT0000746409</td>\n",
       "      <td>VER</td>\n",
       "      <td>Verbund AG</td>\n",
       "      <td>Utilities</td>\n",
       "      <td>60.0</td>\n",
       "      <td>60.0</td>\n",
       "      <td>NaN</td>\n",
       "      <td>$113,700</td>\n",
       "    </tr>\n",
       "    <tr>\n",
       "      <th>4</th>\n",
       "      <td>AT0000785555</td>\n",
       "      <td>SEM</td>\n",
       "      <td>Semperit AG Holding</td>\n",
       "      <td>Industrials</td>\n",
       "      <td>179.8</td>\n",
       "      <td>180.0</td>\n",
       "      <td>NaN</td>\n",
       "      <td>$42,730</td>\n",
       "    </tr>\n",
       "    <tr>\n",
       "      <th>...</th>\n",
       "      <td>...</td>\n",
       "      <td>...</td>\n",
       "      <td>...</td>\n",
       "      <td>...</td>\n",
       "      <td>...</td>\n",
       "      <td>...</td>\n",
       "      <td>...</td>\n",
       "      <td>...</td>\n",
       "    </tr>\n",
       "    <tr>\n",
       "      <th>3140</th>\n",
       "      <td>US5168061068</td>\n",
       "      <td>LPI</td>\n",
       "      <td>NaN</td>\n",
       "      <td>Energy</td>\n",
       "      <td>51.0</td>\n",
       "      <td>NaN</td>\n",
       "      <td>43.1</td>\n",
       "      <td>NaN</td>\n",
       "    </tr>\n",
       "    <tr>\n",
       "      <th>3141</th>\n",
       "      <td>US6984771062</td>\n",
       "      <td>PHX</td>\n",
       "      <td>NaN</td>\n",
       "      <td>Energy</td>\n",
       "      <td>NaN</td>\n",
       "      <td>NaN</td>\n",
       "      <td>11.1</td>\n",
       "      <td>NaN</td>\n",
       "    </tr>\n",
       "    <tr>\n",
       "      <th>3142</th>\n",
       "      <td>IT0005252207</td>\n",
       "      <td>NaN</td>\n",
       "      <td>NaN</td>\n",
       "      <td>Consumer Staples</td>\n",
       "      <td>NaN</td>\n",
       "      <td>245.0</td>\n",
       "      <td>NaN</td>\n",
       "      <td>$65,497</td>\n",
       "    </tr>\n",
       "    <tr>\n",
       "      <th>3143</th>\n",
       "      <td>KYG211821031</td>\n",
       "      <td>NaN</td>\n",
       "      <td>NaN</td>\n",
       "      <td>unknown</td>\n",
       "      <td>NaN</td>\n",
       "      <td>245.0</td>\n",
       "      <td>NaN</td>\n",
       "      <td>$65,497</td>\n",
       "    </tr>\n",
       "    <tr>\n",
       "      <th>3144</th>\n",
       "      <td>CA70137T1057</td>\n",
       "      <td>NaN</td>\n",
       "      <td>NaN</td>\n",
       "      <td>unknown</td>\n",
       "      <td>NaN</td>\n",
       "      <td>245.0</td>\n",
       "      <td>NaN</td>\n",
       "      <td>$65,497</td>\n",
       "    </tr>\n",
       "  </tbody>\n",
       "</table>\n",
       "<p>3145 rows × 8 columns</p>\n",
       "</div>"
      ],
      "text/plain": [
       "              ISIN Ticker              Company Name            Sector  \\\n",
       "0     AN8068571086    SLB           Schlumberger NV            Energy   \n",
       "1     AT0000641352    CAI  CA Immobilien Anlagen AG       Real Estate   \n",
       "2     AT0000652011    EBS       Erste Group Bank AG        Financials   \n",
       "3     AT0000746409    VER                Verbund AG         Utilities   \n",
       "4     AT0000785555    SEM       Semperit AG Holding       Industrials   \n",
       "...            ...    ...                       ...               ...   \n",
       "3140  US5168061068    LPI                       NaN            Energy   \n",
       "3141  US6984771062    PHX                       NaN            Energy   \n",
       "3142  IT0005252207    NaN                       NaN  Consumer Staples   \n",
       "3143  KYG211821031    NaN                       NaN           unknown   \n",
       "3144  CA70137T1057    NaN                       NaN           unknown   \n",
       "\n",
       "      CEO Pay Ratio (Source 1)  CEO Pay Ratio (Source 2)  \\\n",
       "0                        313.0                       NaN   \n",
       "1                         19.8                       NaN   \n",
       "2                         36.0                      36.0   \n",
       "3                         60.0                      60.0   \n",
       "4                        179.8                     180.0   \n",
       "...                        ...                       ...   \n",
       "3140                      51.0                       NaN   \n",
       "3141                       NaN                       NaN   \n",
       "3142                       NaN                     245.0   \n",
       "3143                       NaN                     245.0   \n",
       "3144                       NaN                     245.0   \n",
       "\n",
       "      CEO Pay Ratio (Source 3) Median Employee Pay  \n",
       "0                         58.4                 NaN  \n",
       "1                          NaN                 NaN  \n",
       "2                          NaN           $104,315   \n",
       "3                          NaN           $113,700   \n",
       "4                          NaN            $42,730   \n",
       "...                        ...                 ...  \n",
       "3140                      43.1                 NaN  \n",
       "3141                      11.1                 NaN  \n",
       "3142                       NaN            $65,497   \n",
       "3143                       NaN            $65,497   \n",
       "3144                       NaN            $65,497   \n",
       "\n",
       "[3145 rows x 8 columns]"
      ]
     },
     "execution_count": 63,
     "metadata": {},
     "output_type": "execute_result"
    }
   ],
   "source": [
    "# View the updated data to see difference in row count. \n",
    "\n",
    "updated_data"
   ]
  },
  {
   "cell_type": "code",
   "execution_count": 57,
   "id": "existing-memorial",
   "metadata": {},
   "outputs": [],
   "source": [
    "# As seen, the row values have not changed based on the dropna function for the ISIN column\n",
    "# this means that each row has a distinct ISIN value. "
   ]
  },
  {
   "cell_type": "code",
   "execution_count": 64,
   "id": "outside-fossil",
   "metadata": {},
   "outputs": [],
   "source": [
    "# Grab an average of the three ceo pay ratio columns. the mean function disregards values of NaN.\n",
    "\n",
    "updated_data['Average CEO Pay Ratio'] = updated_data[['CEO Pay Ratio (Source 1)', 'CEO Pay Ratio (Source 2)', 'CEO Pay Ratio (Source 3)']].mean(axis=1)"
   ]
  },
  {
   "cell_type": "code",
   "execution_count": 65,
   "id": "lined-drama",
   "metadata": {
    "scrolled": true
   },
   "outputs": [
    {
     "data": {
      "text/html": [
       "<div>\n",
       "<style scoped>\n",
       "    .dataframe tbody tr th:only-of-type {\n",
       "        vertical-align: middle;\n",
       "    }\n",
       "\n",
       "    .dataframe tbody tr th {\n",
       "        vertical-align: top;\n",
       "    }\n",
       "\n",
       "    .dataframe thead th {\n",
       "        text-align: right;\n",
       "    }\n",
       "</style>\n",
       "<table border=\"1\" class=\"dataframe\">\n",
       "  <thead>\n",
       "    <tr style=\"text-align: right;\">\n",
       "      <th></th>\n",
       "      <th>ISIN</th>\n",
       "      <th>Ticker</th>\n",
       "      <th>Company Name</th>\n",
       "      <th>Sector</th>\n",
       "      <th>CEO Pay Ratio (Source 1)</th>\n",
       "      <th>CEO Pay Ratio (Source 2)</th>\n",
       "      <th>CEO Pay Ratio (Source 3)</th>\n",
       "      <th>Median Employee Pay</th>\n",
       "      <th>Average CEO Pay Ratio</th>\n",
       "    </tr>\n",
       "  </thead>\n",
       "  <tbody>\n",
       "    <tr>\n",
       "      <th>0</th>\n",
       "      <td>AN8068571086</td>\n",
       "      <td>SLB</td>\n",
       "      <td>Schlumberger NV</td>\n",
       "      <td>Energy</td>\n",
       "      <td>313.0</td>\n",
       "      <td>NaN</td>\n",
       "      <td>58.4</td>\n",
       "      <td>NaN</td>\n",
       "      <td>185.70</td>\n",
       "    </tr>\n",
       "    <tr>\n",
       "      <th>1</th>\n",
       "      <td>AT0000641352</td>\n",
       "      <td>CAI</td>\n",
       "      <td>CA Immobilien Anlagen AG</td>\n",
       "      <td>Real Estate</td>\n",
       "      <td>19.8</td>\n",
       "      <td>NaN</td>\n",
       "      <td>NaN</td>\n",
       "      <td>NaN</td>\n",
       "      <td>19.80</td>\n",
       "    </tr>\n",
       "    <tr>\n",
       "      <th>2</th>\n",
       "      <td>AT0000652011</td>\n",
       "      <td>EBS</td>\n",
       "      <td>Erste Group Bank AG</td>\n",
       "      <td>Financials</td>\n",
       "      <td>36.0</td>\n",
       "      <td>36.0</td>\n",
       "      <td>NaN</td>\n",
       "      <td>$104,315</td>\n",
       "      <td>36.00</td>\n",
       "    </tr>\n",
       "    <tr>\n",
       "      <th>3</th>\n",
       "      <td>AT0000746409</td>\n",
       "      <td>VER</td>\n",
       "      <td>Verbund AG</td>\n",
       "      <td>Utilities</td>\n",
       "      <td>60.0</td>\n",
       "      <td>60.0</td>\n",
       "      <td>NaN</td>\n",
       "      <td>$113,700</td>\n",
       "      <td>60.00</td>\n",
       "    </tr>\n",
       "    <tr>\n",
       "      <th>4</th>\n",
       "      <td>AT0000785555</td>\n",
       "      <td>SEM</td>\n",
       "      <td>Semperit AG Holding</td>\n",
       "      <td>Industrials</td>\n",
       "      <td>179.8</td>\n",
       "      <td>180.0</td>\n",
       "      <td>NaN</td>\n",
       "      <td>$42,730</td>\n",
       "      <td>179.90</td>\n",
       "    </tr>\n",
       "    <tr>\n",
       "      <th>...</th>\n",
       "      <td>...</td>\n",
       "      <td>...</td>\n",
       "      <td>...</td>\n",
       "      <td>...</td>\n",
       "      <td>...</td>\n",
       "      <td>...</td>\n",
       "      <td>...</td>\n",
       "      <td>...</td>\n",
       "      <td>...</td>\n",
       "    </tr>\n",
       "    <tr>\n",
       "      <th>3140</th>\n",
       "      <td>US5168061068</td>\n",
       "      <td>LPI</td>\n",
       "      <td>NaN</td>\n",
       "      <td>Energy</td>\n",
       "      <td>51.0</td>\n",
       "      <td>NaN</td>\n",
       "      <td>43.1</td>\n",
       "      <td>NaN</td>\n",
       "      <td>47.05</td>\n",
       "    </tr>\n",
       "    <tr>\n",
       "      <th>3141</th>\n",
       "      <td>US6984771062</td>\n",
       "      <td>PHX</td>\n",
       "      <td>NaN</td>\n",
       "      <td>Energy</td>\n",
       "      <td>NaN</td>\n",
       "      <td>NaN</td>\n",
       "      <td>11.1</td>\n",
       "      <td>NaN</td>\n",
       "      <td>11.10</td>\n",
       "    </tr>\n",
       "    <tr>\n",
       "      <th>3142</th>\n",
       "      <td>IT0005252207</td>\n",
       "      <td>NaN</td>\n",
       "      <td>NaN</td>\n",
       "      <td>Consumer Staples</td>\n",
       "      <td>NaN</td>\n",
       "      <td>245.0</td>\n",
       "      <td>NaN</td>\n",
       "      <td>$65,497</td>\n",
       "      <td>245.00</td>\n",
       "    </tr>\n",
       "    <tr>\n",
       "      <th>3143</th>\n",
       "      <td>KYG211821031</td>\n",
       "      <td>NaN</td>\n",
       "      <td>NaN</td>\n",
       "      <td>unknown</td>\n",
       "      <td>NaN</td>\n",
       "      <td>245.0</td>\n",
       "      <td>NaN</td>\n",
       "      <td>$65,497</td>\n",
       "      <td>245.00</td>\n",
       "    </tr>\n",
       "    <tr>\n",
       "      <th>3144</th>\n",
       "      <td>CA70137T1057</td>\n",
       "      <td>NaN</td>\n",
       "      <td>NaN</td>\n",
       "      <td>unknown</td>\n",
       "      <td>NaN</td>\n",
       "      <td>245.0</td>\n",
       "      <td>NaN</td>\n",
       "      <td>$65,497</td>\n",
       "      <td>245.00</td>\n",
       "    </tr>\n",
       "  </tbody>\n",
       "</table>\n",
       "<p>3145 rows × 9 columns</p>\n",
       "</div>"
      ],
      "text/plain": [
       "              ISIN Ticker              Company Name            Sector  \\\n",
       "0     AN8068571086    SLB           Schlumberger NV            Energy   \n",
       "1     AT0000641352    CAI  CA Immobilien Anlagen AG       Real Estate   \n",
       "2     AT0000652011    EBS       Erste Group Bank AG        Financials   \n",
       "3     AT0000746409    VER                Verbund AG         Utilities   \n",
       "4     AT0000785555    SEM       Semperit AG Holding       Industrials   \n",
       "...            ...    ...                       ...               ...   \n",
       "3140  US5168061068    LPI                       NaN            Energy   \n",
       "3141  US6984771062    PHX                       NaN            Energy   \n",
       "3142  IT0005252207    NaN                       NaN  Consumer Staples   \n",
       "3143  KYG211821031    NaN                       NaN           unknown   \n",
       "3144  CA70137T1057    NaN                       NaN           unknown   \n",
       "\n",
       "      CEO Pay Ratio (Source 1)  CEO Pay Ratio (Source 2)  \\\n",
       "0                        313.0                       NaN   \n",
       "1                         19.8                       NaN   \n",
       "2                         36.0                      36.0   \n",
       "3                         60.0                      60.0   \n",
       "4                        179.8                     180.0   \n",
       "...                        ...                       ...   \n",
       "3140                      51.0                       NaN   \n",
       "3141                       NaN                       NaN   \n",
       "3142                       NaN                     245.0   \n",
       "3143                       NaN                     245.0   \n",
       "3144                       NaN                     245.0   \n",
       "\n",
       "      CEO Pay Ratio (Source 3) Median Employee Pay  Average CEO Pay Ratio  \n",
       "0                         58.4                 NaN                 185.70  \n",
       "1                          NaN                 NaN                  19.80  \n",
       "2                          NaN           $104,315                   36.00  \n",
       "3                          NaN           $113,700                   60.00  \n",
       "4                          NaN            $42,730                  179.90  \n",
       "...                        ...                 ...                    ...  \n",
       "3140                      43.1                 NaN                  47.05  \n",
       "3141                      11.1                 NaN                  11.10  \n",
       "3142                       NaN            $65,497                  245.00  \n",
       "3143                       NaN            $65,497                  245.00  \n",
       "3144                       NaN            $65,497                  245.00  \n",
       "\n",
       "[3145 rows x 9 columns]"
      ]
     },
     "execution_count": 65,
     "metadata": {},
     "output_type": "execute_result"
    }
   ],
   "source": [
    "# View updated Table\n",
    "\n",
    "updated_data"
   ]
  },
  {
   "cell_type": "code",
   "execution_count": 72,
   "id": "dietary-lover",
   "metadata": {
    "scrolled": true
   },
   "outputs": [
    {
     "data": {
      "text/plain": [
       "Financials                561\n",
       "Health Care               538\n",
       "Industrials               438\n",
       "Information Technology    380\n",
       "Consumer Discretionary    357\n",
       "Real Estate               203\n",
       "Energy                    156\n",
       "Materials                 156\n",
       "Communication Services    139\n",
       "Consumer Staples          127\n",
       "Utilities                  83\n",
       "unknown                     7\n",
       "Name: Sector, dtype: int64"
      ]
     },
     "execution_count": 72,
     "metadata": {},
     "output_type": "execute_result"
    }
   ],
   "source": [
    "# View the counts of different Sectors \n",
    "\n",
    "updated_data['Sector'].value_counts()"
   ]
  },
  {
   "cell_type": "code",
   "execution_count": 80,
   "id": "dense-share",
   "metadata": {},
   "outputs": [],
   "source": [
    "# Unknown only has 7 values so drop those entries \n",
    "\n",
    "index_names = updated_data[updated_data['Sector'] == 'unknown' ].index"
   ]
  },
  {
   "cell_type": "code",
   "execution_count": 83,
   "id": "built-officer",
   "metadata": {},
   "outputs": [],
   "source": [
    "# Drop rows from index names dataframe\n",
    "\n",
    "updated_data.drop(index_names, inplace=True)"
   ]
  },
  {
   "cell_type": "code",
   "execution_count": 84,
   "id": "entire-channels",
   "metadata": {},
   "outputs": [
    {
     "data": {
      "text/plain": [
       "Financials                561\n",
       "Health Care               538\n",
       "Industrials               438\n",
       "Information Technology    380\n",
       "Consumer Discretionary    357\n",
       "Real Estate               203\n",
       "Energy                    156\n",
       "Materials                 156\n",
       "Communication Services    139\n",
       "Consumer Staples          127\n",
       "Utilities                  83\n",
       "Name: Sector, dtype: int64"
      ]
     },
     "execution_count": 84,
     "metadata": {},
     "output_type": "execute_result"
    }
   ],
   "source": [
    "# View the value counts to see if Sectors defined as 'unknown' were dropped\n",
    "\n",
    "updated_data['Sector'].value_counts()"
   ]
  },
  {
   "cell_type": "code",
   "execution_count": 73,
   "id": "streaming-walker",
   "metadata": {},
   "outputs": [
    {
     "data": {
      "text/plain": [
       "$70,000      5\n",
       "$65,497      5\n",
       "$104,061     4\n",
       "$93,750      4\n",
       "$82,043      3\n",
       "            ..\n",
       "$47,395      1\n",
       "$198,576     1\n",
       "$24,439      1\n",
       "$96,867      1\n",
       "$42,590      1\n",
       "Name: Median Employee Pay, Length: 1961, dtype: int64"
      ]
     },
     "execution_count": 73,
     "metadata": {},
     "output_type": "execute_result"
    }
   ],
   "source": [
    "# View value counts of Median Employee Pay\n",
    "\n",
    "updated_data['Median Employee Pay'].value_counts()"
   ]
  },
  {
   "cell_type": "code",
   "execution_count": 86,
   "id": "diverse-responsibility",
   "metadata": {},
   "outputs": [],
   "source": [
    "# drop any NaN values from the Median Employee Pay\n",
    "\n",
    "median_salary = updated_data.dropna(axis= 0, subset = ['Median Employee Pay'])"
   ]
  },
  {
   "cell_type": "code",
   "execution_count": 87,
   "id": "listed-boutique",
   "metadata": {},
   "outputs": [
    {
     "data": {
      "text/plain": [
       "(2208, 9)"
      ]
     },
     "execution_count": 87,
     "metadata": {},
     "output_type": "execute_result"
    }
   ],
   "source": [
    "# View the row difference after dropping NaN from Median Employee Pay\n",
    "\n",
    "median_salary.shape"
   ]
  },
  {
   "cell_type": "code",
   "execution_count": 88,
   "id": "forced-reservoir",
   "metadata": {},
   "outputs": [
    {
     "data": {
      "text/plain": [
       "(3138, 9)"
      ]
     },
     "execution_count": 88,
     "metadata": {},
     "output_type": "execute_result"
    }
   ],
   "source": [
    "# A little over 1000 rows were dropped after removing NaN from Median Employee Pay which is far too high\n",
    "\n",
    "updated_data.shape"
   ]
  },
  {
   "cell_type": "code",
   "execution_count": 89,
   "id": "welsh-participant",
   "metadata": {},
   "outputs": [],
   "source": [
    "# In order to maintain data integrity and a sufficient number of columns, I believe it is best to include null\n",
    "# values for specific columns such as median employee pay. The reason for this is, the dataset may not have the \n",
    "# median employee pay but they do have the CEO ratio which can be used for exploratory analysis. "
   ]
  },
  {
   "cell_type": "code",
   "execution_count": 92,
   "id": "divine-roommate",
   "metadata": {},
   "outputs": [
    {
     "data": {
      "text/plain": [
       "count         2208\n",
       "unique        1961\n",
       "top       $70,000 \n",
       "freq             5\n",
       "Name: Median Employee Pay, dtype: object"
      ]
     },
     "execution_count": 92,
     "metadata": {},
     "output_type": "execute_result"
    }
   ],
   "source": [
    "updated_data['Median Employee Pay'].describe()"
   ]
  },
  {
   "cell_type": "code",
   "execution_count": 93,
   "id": "front-stock",
   "metadata": {},
   "outputs": [],
   "source": [
    "updated_data.to_csv('../updated_compensation.csv')"
   ]
  },
  {
   "cell_type": "code",
   "execution_count": null,
   "id": "contrary-utility",
   "metadata": {},
   "outputs": [],
   "source": []
  }
 ],
 "metadata": {
  "kernelspec": {
   "display_name": "PythonData",
   "language": "python",
   "name": "pythondata"
  },
  "language_info": {
   "codemirror_mode": {
    "name": "ipython",
    "version": 3
   },
   "file_extension": ".py",
   "mimetype": "text/x-python",
   "name": "python",
   "nbconvert_exporter": "python",
   "pygments_lexer": "ipython3",
   "version": "3.7.7"
  }
 },
 "nbformat": 4,
 "nbformat_minor": 5
}
